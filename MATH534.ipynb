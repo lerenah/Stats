{
 "cells": [
  {
   "cell_type": "code",
   "execution_count": 140,
   "metadata": {},
   "outputs": [],
   "source": [
    "import numpy as np\n",
    "import pandas as pd\n",
    "import math\n",
    "import io\n",
    "import matplotlib.pyplot as plt\n",
    "import seaborn as sns\n",
    "%matplotlib inline\n",
    "from scipy import stats\n",
    "import scipy.optimize\n",
    "import scipy.spatial\n",
    "from statsmodels.formula.api import ols\n",
    "import statsmodels.formula.api as smapi"
   ]
  },
  {
   "cell_type": "markdown",
   "metadata": {},
   "source": [
    "## PART A Exploratory Data Analysis\n",
    "\n",
    "In performing this Exploratory Data Analysis, histograms or boxplots will be used for univariate analysis and pivot tables will be used for the bivariate.  \n",
    "\n",
    "An overall look at this data shows that while certain numerical variables such as TIME and YEARS do not seem to affect each other, other variables such as SALES and CALLS significantly impact each other.  \n",
    "\n",
    "Also, looking at CALLS and TIME, there is an obvious correlation depicted.  \n",
    "\n",
    "One would also consider the relationship between TIME and SALES, seemingly we would expect a significant correlation, but there does not seem to be a linear relationship involved.  \n",
    "\n",
    "Overall, YEARS was the main variable that did not seem to have any impact on any of the other variables.\n",
    "\n",
    "Here are the list of variables:\n",
    "* SALES represents the number sales made this week.\n",
    "* CALLS represents the number of sales calls made this week.\n",
    "* TIME represents the average time per call this week.\n",
    "* YEARS represents years of experience in the call center.\n",
    "* TYPE represents the type of training the employee received."
   ]
  },
  {
   "cell_type": "code",
   "execution_count": 145,
   "metadata": {},
   "outputs": [],
   "source": [
    "df = pd.read_excel('math.xlsx')"
   ]
  },
  {
   "cell_type": "code",
   "execution_count": 146,
   "metadata": {},
   "outputs": [
    {
     "data": {
      "text/html": [
       "<div>\n",
       "<style scoped>\n",
       "    .dataframe tbody tr th:only-of-type {\n",
       "        vertical-align: middle;\n",
       "    }\n",
       "\n",
       "    .dataframe tbody tr th {\n",
       "        vertical-align: top;\n",
       "    }\n",
       "\n",
       "    .dataframe thead th {\n",
       "        text-align: right;\n",
       "    }\n",
       "</style>\n",
       "<table border=\"1\" class=\"dataframe\">\n",
       "  <thead>\n",
       "    <tr style=\"text-align: right;\">\n",
       "      <th></th>\n",
       "      <th>Sales (Y)</th>\n",
       "      <th>Calls (X1)</th>\n",
       "      <th>Time (X2)</th>\n",
       "      <th>Years (X3)</th>\n",
       "      <th>Type</th>\n",
       "    </tr>\n",
       "  </thead>\n",
       "  <tbody>\n",
       "    <tr>\n",
       "      <th>0</th>\n",
       "      <td>48</td>\n",
       "      <td>171</td>\n",
       "      <td>13.0</td>\n",
       "      <td>5</td>\n",
       "      <td>ONLINE</td>\n",
       "    </tr>\n",
       "    <tr>\n",
       "      <th>1</th>\n",
       "      <td>32</td>\n",
       "      <td>139</td>\n",
       "      <td>16.9</td>\n",
       "      <td>4</td>\n",
       "      <td>NONE</td>\n",
       "    </tr>\n",
       "    <tr>\n",
       "      <th>2</th>\n",
       "      <td>44</td>\n",
       "      <td>165</td>\n",
       "      <td>15.7</td>\n",
       "      <td>3</td>\n",
       "      <td>ONLINE</td>\n",
       "    </tr>\n",
       "    <tr>\n",
       "      <th>3</th>\n",
       "      <td>47</td>\n",
       "      <td>186</td>\n",
       "      <td>13.5</td>\n",
       "      <td>3</td>\n",
       "      <td>ONLINE</td>\n",
       "    </tr>\n",
       "    <tr>\n",
       "      <th>4</th>\n",
       "      <td>41</td>\n",
       "      <td>180</td>\n",
       "      <td>14.0</td>\n",
       "      <td>2</td>\n",
       "      <td>ONLINE</td>\n",
       "    </tr>\n",
       "  </tbody>\n",
       "</table>\n",
       "</div>"
      ],
      "text/plain": [
       "   Sales (Y)  Calls (X1)  Time (X2)  Years (X3)    Type\n",
       "0         48         171       13.0           5  ONLINE\n",
       "1         32         139       16.9           4    NONE\n",
       "2         44         165       15.7           3  ONLINE\n",
       "3         47         186       13.5           3  ONLINE\n",
       "4         41         180       14.0           2  ONLINE"
      ]
     },
     "execution_count": 146,
     "metadata": {},
     "output_type": "execute_result"
    }
   ],
   "source": [
    "df.head()"
   ]
  },
  {
   "cell_type": "code",
   "execution_count": 50,
   "metadata": {},
   "outputs": [
    {
     "data": {
      "text/html": [
       "<div>\n",
       "<style scoped>\n",
       "    .dataframe tbody tr th:only-of-type {\n",
       "        vertical-align: middle;\n",
       "    }\n",
       "\n",
       "    .dataframe tbody tr th {\n",
       "        vertical-align: top;\n",
       "    }\n",
       "\n",
       "    .dataframe thead th {\n",
       "        text-align: right;\n",
       "    }\n",
       "</style>\n",
       "<table border=\"1\" class=\"dataframe\">\n",
       "  <thead>\n",
       "    <tr style=\"text-align: right;\">\n",
       "      <th></th>\n",
       "      <th>Sales (Y)</th>\n",
       "      <th>Calls (X1)</th>\n",
       "      <th>Time (X2)</th>\n",
       "      <th>Years (X3)</th>\n",
       "    </tr>\n",
       "    <tr>\n",
       "      <th>Type</th>\n",
       "      <th></th>\n",
       "      <th></th>\n",
       "      <th></th>\n",
       "      <th></th>\n",
       "    </tr>\n",
       "  </thead>\n",
       "  <tbody>\n",
       "    <tr>\n",
       "      <th>GROUP</th>\n",
       "      <td>42.766667</td>\n",
       "      <td>156.566667</td>\n",
       "      <td>15.853333</td>\n",
       "      <td>2.466667</td>\n",
       "    </tr>\n",
       "    <tr>\n",
       "      <th>NONE</th>\n",
       "      <td>39.300000</td>\n",
       "      <td>140.300000</td>\n",
       "      <td>16.290000</td>\n",
       "      <td>2.050000</td>\n",
       "    </tr>\n",
       "    <tr>\n",
       "      <th>ONLINE</th>\n",
       "      <td>43.720000</td>\n",
       "      <td>173.700000</td>\n",
       "      <td>14.648000</td>\n",
       "      <td>2.300000</td>\n",
       "    </tr>\n",
       "  </tbody>\n",
       "</table>\n",
       "</div>"
      ],
      "text/plain": [
       "        Sales (Y)  Calls (X1)  Time (X2)  Years (X3)\n",
       "Type                                                \n",
       "GROUP   42.766667  156.566667  15.853333    2.466667\n",
       "NONE    39.300000  140.300000  16.290000    2.050000\n",
       "ONLINE  43.720000  173.700000  14.648000    2.300000"
      ]
     },
     "execution_count": 50,
     "metadata": {},
     "output_type": "execute_result"
    }
   ],
   "source": [
    "df.groupby('Type').mean()"
   ]
  },
  {
   "cell_type": "code",
   "execution_count": 92,
   "metadata": {},
   "outputs": [
    {
     "data": {
      "text/plain": [
       "array(['ONLINE', 'NONE', 'GROUP'], dtype=object)"
      ]
     },
     "execution_count": 92,
     "metadata": {},
     "output_type": "execute_result"
    }
   ],
   "source": [
    "df.Type.unique()"
   ]
  },
  {
   "cell_type": "code",
   "execution_count": 54,
   "metadata": {},
   "outputs": [
    {
     "data": {
      "text/plain": [
       "Sales (Y)     3\n",
       "Calls (X1)    3\n",
       "Time (X2)     3\n",
       "Years (X3)    3\n",
       "dtype: int64"
      ]
     },
     "execution_count": 54,
     "metadata": {},
     "output_type": "execute_result"
    }
   ],
   "source": [
    "df.groupby('Type').count().nunique()"
   ]
  },
  {
   "cell_type": "code",
   "execution_count": 55,
   "metadata": {},
   "outputs": [
    {
     "data": {
      "text/plain": [
       "ONLINE    50\n",
       "GROUP     30\n",
       "NONE      20\n",
       "Name: Type, dtype: int64"
      ]
     },
     "execution_count": 55,
     "metadata": {},
     "output_type": "execute_result"
    }
   ],
   "source": [
    "df.Type.value_counts()"
   ]
  },
  {
   "cell_type": "code",
   "execution_count": 147,
   "metadata": {},
   "outputs": [
    {
     "data": {
      "text/html": [
       "<div>\n",
       "<style scoped>\n",
       "    .dataframe tbody tr th:only-of-type {\n",
       "        vertical-align: middle;\n",
       "    }\n",
       "\n",
       "    .dataframe tbody tr th {\n",
       "        vertical-align: top;\n",
       "    }\n",
       "\n",
       "    .dataframe thead th {\n",
       "        text-align: right;\n",
       "    }\n",
       "</style>\n",
       "<table border=\"1\" class=\"dataframe\">\n",
       "  <thead>\n",
       "    <tr style=\"text-align: right;\">\n",
       "      <th></th>\n",
       "      <th>Sales (Y)</th>\n",
       "      <th>Calls (X1)</th>\n",
       "      <th>Time (X2)</th>\n",
       "      <th>Years (X3)</th>\n",
       "    </tr>\n",
       "  </thead>\n",
       "  <tbody>\n",
       "    <tr>\n",
       "      <th>count</th>\n",
       "      <td>100.000000</td>\n",
       "      <td>100.000000</td>\n",
       "      <td>100.000000</td>\n",
       "      <td>100.00000</td>\n",
       "    </tr>\n",
       "    <tr>\n",
       "      <th>mean</th>\n",
       "      <td>42.550000</td>\n",
       "      <td>161.880000</td>\n",
       "      <td>15.338000</td>\n",
       "      <td>2.30000</td>\n",
       "    </tr>\n",
       "    <tr>\n",
       "      <th>std</th>\n",
       "      <td>7.170894</td>\n",
       "      <td>18.434311</td>\n",
       "      <td>2.299881</td>\n",
       "      <td>1.41778</td>\n",
       "    </tr>\n",
       "    <tr>\n",
       "      <th>min</th>\n",
       "      <td>21.000000</td>\n",
       "      <td>120.000000</td>\n",
       "      <td>10.000000</td>\n",
       "      <td>0.00000</td>\n",
       "    </tr>\n",
       "    <tr>\n",
       "      <th>25%</th>\n",
       "      <td>39.000000</td>\n",
       "      <td>149.000000</td>\n",
       "      <td>13.600000</td>\n",
       "      <td>1.00000</td>\n",
       "    </tr>\n",
       "    <tr>\n",
       "      <th>50%</th>\n",
       "      <td>43.000000</td>\n",
       "      <td>160.500000</td>\n",
       "      <td>15.050000</td>\n",
       "      <td>2.00000</td>\n",
       "    </tr>\n",
       "    <tr>\n",
       "      <th>75%</th>\n",
       "      <td>47.000000</td>\n",
       "      <td>176.250000</td>\n",
       "      <td>17.075000</td>\n",
       "      <td>3.00000</td>\n",
       "    </tr>\n",
       "    <tr>\n",
       "      <th>max</th>\n",
       "      <td>67.000000</td>\n",
       "      <td>201.000000</td>\n",
       "      <td>20.000000</td>\n",
       "      <td>5.00000</td>\n",
       "    </tr>\n",
       "  </tbody>\n",
       "</table>\n",
       "</div>"
      ],
      "text/plain": [
       "        Sales (Y)  Calls (X1)   Time (X2)  Years (X3)\n",
       "count  100.000000  100.000000  100.000000   100.00000\n",
       "mean    42.550000  161.880000   15.338000     2.30000\n",
       "std      7.170894   18.434311    2.299881     1.41778\n",
       "min     21.000000  120.000000   10.000000     0.00000\n",
       "25%     39.000000  149.000000   13.600000     1.00000\n",
       "50%     43.000000  160.500000   15.050000     2.00000\n",
       "75%     47.000000  176.250000   17.075000     3.00000\n",
       "max     67.000000  201.000000   20.000000     5.00000"
      ]
     },
     "execution_count": 147,
     "metadata": {},
     "output_type": "execute_result"
    }
   ],
   "source": [
    "df.describe()"
   ]
  },
  {
   "cell_type": "code",
   "execution_count": 148,
   "metadata": {},
   "outputs": [],
   "source": [
    "def zScoreSample(x, mean, std, n):\n",
    "    sigma = std / math.sqrt(n)\n",
    "    z = x - mean / sigma\n",
    "    return z"
   ]
  },
  {
   "cell_type": "code",
   "execution_count": 149,
   "metadata": {},
   "outputs": [
    {
     "name": "stdout",
     "output_type": "stream",
     "text": [
      "-1.9628919658125454\n"
     ]
    }
   ],
   "source": [
    "# trying to apply Central Limit Theorem to the Sales column, what is the probability that a random variable x:\n",
    "# is less than 40 sales, given a sample distribution of 50\n",
    "salesZScoreSample = zScoreSample(40, 42.55, 7.17, 50)\n",
    "print(salesZScoreSample)"
   ]
  },
  {
   "cell_type": "code",
   "execution_count": 150,
   "metadata": {},
   "outputs": [
    {
     "name": "stdout",
     "output_type": "stream",
     "text": [
      "<class 'pandas.core.frame.DataFrame'>\n",
      "RangeIndex: 100 entries, 0 to 99\n",
      "Data columns (total 5 columns):\n",
      "Sales (Y)     100 non-null int64\n",
      "Calls (X1)    100 non-null int64\n",
      "Time (X2)     100 non-null float64\n",
      "Years (X3)    100 non-null int64\n",
      "Type          100 non-null object\n",
      "dtypes: float64(1), int64(3), object(1)\n",
      "memory usage: 4.0+ KB\n"
     ]
    }
   ],
   "source": [
    "df.info()"
   ]
  },
  {
   "cell_type": "code",
   "execution_count": 151,
   "metadata": {},
   "outputs": [],
   "source": [
    "def describe_column(col):\n",
    "    return col.describe()"
   ]
  },
  {
   "cell_type": "code",
   "execution_count": 152,
   "metadata": {},
   "outputs": [
    {
     "data": {
      "text/plain": [
       "count    100.000000\n",
       "mean      42.550000\n",
       "std        7.170894\n",
       "min       21.000000\n",
       "25%       39.000000\n",
       "50%       43.000000\n",
       "75%       47.000000\n",
       "max       67.000000\n",
       "Name: Sales (Y), dtype: float64"
      ]
     },
     "execution_count": 152,
     "metadata": {},
     "output_type": "execute_result"
    }
   ],
   "source": [
    "describe_column(df['Sales (Y)'])"
   ]
  },
  {
   "cell_type": "code",
   "execution_count": 153,
   "metadata": {},
   "outputs": [],
   "source": [
    "# numerical variables\n",
    "sales = df['Sales (Y)']\n",
    "calls = df['Calls (X1)']\n",
    "time = df['Time (X2)']\n",
    "years = df['Years (X3)']"
   ]
  },
  {
   "cell_type": "code",
   "execution_count": 154,
   "metadata": {},
   "outputs": [],
   "source": [
    "# categorical variable\n",
    "type = df['Type']"
   ]
  },
  {
   "cell_type": "markdown",
   "metadata": {},
   "source": [
    "## Variable Analysis on SALES\n",
    "Sales is the dependent variable in this analysis.  \n",
    "\n",
    "The average employee generates around 43 sales with a STD of 7.  \n",
    "\n",
    "This range is a fair spread for proper analysis.  \n",
    "\n",
    "It looks like the outliers in this set are pretty far away from the mean, but it doesn’t skew the data.  \n",
    "\n",
    "The graph exhibits what appears to be a normal distribution of data points along a curve. "
   ]
  },
  {
   "cell_type": "code",
   "execution_count": 158,
   "metadata": {},
   "outputs": [
    {
     "data": {
      "text/plain": [
       "count    100.000000\n",
       "mean      42.550000\n",
       "std        7.170894\n",
       "min       21.000000\n",
       "25%       39.000000\n",
       "50%       43.000000\n",
       "75%       47.000000\n",
       "max       67.000000\n",
       "Name: Sales (Y), dtype: float64"
      ]
     },
     "execution_count": 158,
     "metadata": {},
     "output_type": "execute_result"
    }
   ],
   "source": [
    "describe_column(df['Sales (Y)'])"
   ]
  },
  {
   "cell_type": "code",
   "execution_count": 155,
   "metadata": {},
   "outputs": [
    {
     "data": {
      "text/plain": [
       "<matplotlib.axes._subplots.AxesSubplot at 0x1c267c42b0>"
      ]
     },
     "execution_count": 155,
     "metadata": {},
     "output_type": "execute_result"
    },
    {
     "data": {
      "image/png": "[encoded data removed]",
      "text/plain": [
       "<Figure size 432x288 with 1 Axes>"
      ]
     },
     "metadata": {
      "needs_background": "light"
     },
     "output_type": "display_data"
    }
   ],
   "source": [
    "sales.hist(bins=20, color='black')"
   ]
  },
  {
   "cell_type": "markdown",
   "metadata": {},
   "source": [
    "## Variable Analysis on CALLS\n",
    "For the discrete numerical value, Calls, there was a wide spread of data.  \n",
    "\n",
    "The mean was around 161 with a STD of around 19.  \n",
    "\n",
    "Considering the range of this variable, it was the largest spread of them all.  \n",
    "\n",
    "The quartile ranges started at 149 for 25%, 160 for 50%, and 176 for 75%.  \n"
   ]
  },
  {
   "cell_type": "code",
   "execution_count": 156,
   "metadata": {},
   "outputs": [
    {
     "data": {
      "text/plain": [
       "count    100.000000\n",
       "mean     161.880000\n",
       "std       18.434311\n",
       "min      120.000000\n",
       "25%      149.000000\n",
       "50%      160.500000\n",
       "75%      176.250000\n",
       "max      201.000000\n",
       "Name: Calls (X1), dtype: float64"
      ]
     },
     "execution_count": 156,
     "metadata": {},
     "output_type": "execute_result"
    }
   ],
   "source": [
    "describe_column(df['Calls (X1)'])"
   ]
  },
  {
   "cell_type": "code",
   "execution_count": 66,
   "metadata": {},
   "outputs": [
    {
     "data": {
      "text/plain": [
       "{'whiskers': [<matplotlib.lines.Line2D at 0x1a2436c3c8>,\n",
       "  <matplotlib.lines.Line2D at 0x1a2436c710>],\n",
       " 'caps': [<matplotlib.lines.Line2D at 0x1a2436ca58>,\n",
       "  <matplotlib.lines.Line2D at 0x1a2436cda0>],\n",
       " 'boxes': [<matplotlib.lines.Line2D at 0x1a24361fd0>],\n",
       " 'medians': [<matplotlib.lines.Line2D at 0x1a2436ce80>],\n",
       " 'fliers': [<matplotlib.lines.Line2D at 0x1a24373400>],\n",
       " 'means': []}"
      ]
     },
     "execution_count": 66,
     "metadata": {},
     "output_type": "execute_result"
    },
    {
     "data": {
      "image/png": "[encoded data removed]",
      "text/plain": [
       "<Figure size 432x288 with 1 Axes>"
      ]
     },
     "metadata": {
      "needs_background": "light"
     },
     "output_type": "display_data"
    }
   ],
   "source": [
    "plt.boxplot(calls)"
   ]
  },
  {
   "cell_type": "markdown",
   "metadata": {},
   "source": [
    "## Variable Analysis on YEARS\n",
    "Years is a discrete variable in this dataset as well of independent type.  \n",
    "\n",
    "The STD was above one, which makes it a useful variable.  \n",
    "\n",
    "The average years for employees at this company was 2.3.  \n",
    "\n",
    "No one had worked more than 5 years here.  \n",
    "\n",
    "The graph shows us most of the data lies between 1 year and 3 years for the majority of employees.\n"
   ]
  },
  {
   "cell_type": "code",
   "execution_count": 159,
   "metadata": {},
   "outputs": [
    {
     "data": {
      "text/plain": [
       "count    100.00000\n",
       "mean       2.30000\n",
       "std        1.41778\n",
       "min        0.00000\n",
       "25%        1.00000\n",
       "50%        2.00000\n",
       "75%        3.00000\n",
       "max        5.00000\n",
       "Name: Years (X3), dtype: float64"
      ]
     },
     "execution_count": 159,
     "metadata": {},
     "output_type": "execute_result"
    }
   ],
   "source": [
    "describe_column(df['Years (X3)'])"
   ]
  },
  {
   "cell_type": "code",
   "execution_count": 68,
   "metadata": {},
   "outputs": [
    {
     "data": {
      "text/plain": [
       "(array([ 9., 22., 29., 20., 10., 10.]),\n",
       " array([0.        , 0.83333333, 1.66666667, 2.5       , 3.33333333,\n",
       "        4.16666667, 5.        ]),\n",
       " <a list of 6 Patch objects>)"
      ]
     },
     "execution_count": 68,
     "metadata": {},
     "output_type": "execute_result"
    },
    {
     "data": {
      "image/png": "[encoded data removed]",
      "text/plain": [
       "<Figure size 432x288 with 1 Axes>"
      ]
     },
     "metadata": {
      "needs_background": "light"
     },
     "output_type": "display_data"
    }
   ],
   "source": [
    "plt.hist(years, bins=6,color='black')"
   ]
  },
  {
   "cell_type": "markdown",
   "metadata": {},
   "source": [
    "## Bivariate Analysis on TIME and CALLS\n",
    "When considering the number of calls to be a function of the average time an employee spends on calls, the scatterplot shows almost a negative correlation here.  \n",
    "\n",
    "Rightfully so, this relationships is plausible.  \n",
    "\n",
    "If an employee spends a large amount of time on average with the customer, they are only able to make a certain number of calls as times progresses.  Contrary to an employee who spends a very limited amount of time per call, we would expect them to have time to make more calls.\n"
   ]
  },
  {
   "cell_type": "code",
   "execution_count": 69,
   "metadata": {},
   "outputs": [
    {
     "data": {
      "text/plain": [
       "<matplotlib.collections.PathCollection at 0x1a2447da20>"
      ]
     },
     "execution_count": 69,
     "metadata": {},
     "output_type": "execute_result"
    },
    {
     "data": {
      "image/png": "[encoded data removed]",
      "text/plain": [
       "<Figure size 432x288 with 1 Axes>"
      ]
     },
     "metadata": {
      "needs_background": "light"
     },
     "output_type": "display_data"
    }
   ],
   "source": [
    "plt.scatter(calls, time)"
   ]
  },
  {
   "cell_type": "markdown",
   "metadata": {},
   "source": [
    "## Bivariate Analysis on SALES and CALLS\n",
    "Sales being the dependent variable and calls, the independent variable, it’s not surprising to see a drastic positive, linear relationship here taking place here with a few outliers.  \n",
    "\n",
    "An inference can be made on production by considering the number of sales an employee makes to be positively correlated with the number of calls they produce.\n"
   ]
  },
  {
   "cell_type": "code",
   "execution_count": 70,
   "metadata": {},
   "outputs": [
    {
     "data": {
      "text/plain": [
       "<matplotlib.collections.PathCollection at 0x1a244f64e0>"
      ]
     },
     "execution_count": 70,
     "metadata": {},
     "output_type": "execute_result"
    },
    {
     "data": {
      "image/png": "[encoded data removed]",
      "text/plain": [
       "<Figure size 432x288 with 1 Axes>"
      ]
     },
     "metadata": {
      "needs_background": "light"
     },
     "output_type": "display_data"
    }
   ],
   "source": [
    "plt.scatter(sales, calls)"
   ]
  },
  {
   "cell_type": "markdown",
   "metadata": {},
   "source": [
    "## Pairplot on entire data"
   ]
  },
  {
   "cell_type": "code",
   "execution_count": 160,
   "metadata": {},
   "outputs": [
    {
     "data": {
      "text/plain": [
       "<seaborn.axisgrid.PairGrid at 0x1c26827630>"
      ]
     },
     "execution_count": 160,
     "metadata": {},
     "output_type": "execute_result"
    },
    {
     "data": {
      "image/png": "[encoded data removed]",
      "text/plain": [
       "<Figure size 720x720 with 20 Axes>"
      ]
     },
     "metadata": {
      "needs_background": "light"
     },
     "output_type": "display_data"
    }
   ],
   "source": [
    "sns.pairplot(df)"
   ]
  },
  {
   "cell_type": "markdown",
   "metadata": {},
   "source": [
    "## Conclusion of EDA\n",
    "\n",
    "It is surprising to see that YEARS has very little impact on most of the variables.  Usually the length of time an employee has accumulated in the industry profoundly affects their performance.  \n",
    "\n",
    "Yet, in sales there seems to be little correlation.  This inference may conclude that a sales employee whose number of years in industry is less than the mean will still have a high probability of generating the most sales.  \n",
    "Another interesting observation was the outcome of online training and the number of sales.  \n",
    "\n",
    "This raises the question of the validity of online training in the positive.  Are these online courses more effective in sales than group training courses?  This would be a very interesting hypothesis to test when during this analysis. \n"
   ]
  },
  {
   "cell_type": "markdown",
   "metadata": {},
   "source": [
    "# Part B: Hypothesis Testing and Confidence Intervals"
   ]
  },
  {
   "cell_type": "markdown",
   "metadata": {},
   "source": [
    "#### List of confidence intervals to compute\n",
    "\n",
    "The data file includes four hypotheses labeled 1 - 4\n",
    "\n",
    "1) Mean sales per week exceeds 41.5 per salesperson\n",
    "\n",
    "2) Proportion receiving online training is less than 55%\n",
    "\n",
    "3) Mean calls made among those with no training is less than 145\n",
    "\n",
    "4) Mean time per call is greater than 15 minutes\n",
    "\n",
    "Perform the hypothesis test for each speculation in order to see if there is evidence to support the manager's belief. \n",
    "\n",
    "Compute confidence intervals (the required confidence level is included with the speculations) for each of the variables described in 1-4, and interpret these intervals.\n",
    "Write a report about the results, distilling down the results in a way that would be understandable to someone who does not know statistics. Clear explanations and interpretations are critical.\n"
   ]
  },
  {
   "cell_type": "markdown",
   "metadata": {},
   "source": [
    "### Z_c Chart for  Confidence Intervals\n",
    "LOC | Z_c"
   ]
  },
  {
   "cell_type": "code",
   "execution_count": 161,
   "metadata": {},
   "outputs": [],
   "source": [
    "Z_c_95 = 1.96\n",
    "# used the most\n",
    "Z_c_99 = 2.58\n",
    "Z_c_98 = 2.33\n",
    "Z_c_90 = 1.65\n",
    "Z_c_85 = 1.44\n",
    "Z_c_80 = 1.28"
   ]
  },
  {
   "cell_type": "markdown",
   "metadata": {},
   "source": [
    "* C:----------           | 0.90  | 0.95  | 0.98  | 0.99 \n",
    "\n",
    "* alpha ------       | 0.10  | 0.05  | 0.02  | 0.01\n",
    "\n",
    "* One-tail ---    | 1.28 | 1.65 | 2.05 | 2.33\n",
    "\n",
    "* Two-tail(+-) | 1.65 | 1.96 | 2.33 | 2.58"
   ]
  },
  {
   "cell_type": "markdown",
   "metadata": {},
   "source": [
    "#### Question 1) \n",
    "#### Alternative Hypothesis: The mean sales per week exceeds 41.5 per salesperson\n",
    "#### Null Hypothesis: Mean sales / week <= 41.5 per salesperson\n",
    "- We will determine a 90% confidence interval to test the H_A\n",
    "\n",
    "Variable Key Below\n",
    "_____________________________\n",
    "\n",
    "* m_error_1 (margin of error)\n",
    "* Z_c_a (critical value of Z)\n",
    "* Z_actual (actual value of Z)\n",
    "* SD_sales (standard deviation for sales)\n",
    "* mean_sales (mean for sales)\n",
    "* sample_mean (sample mean)\n",
    "* H_A_pop_mean (population mean hypothesized)\n",
    "* LL (Lower Limit)\n",
    "* UL (Upper Limit"
   ]
  },
  {
   "cell_type": "code",
   "execution_count": 162,
   "metadata": {},
   "outputs": [
    {
     "name": "stdout",
     "output_type": "stream",
     "text": [
      "Standard Deviation of sales is ----> 7.13\n",
      "Margin of error is ----> 0.08\n",
      "Upper Limit is ----> 43.73\n",
      "Lower Limit is ----> 41.37\n",
      "Z score is ----> -1.47\n",
      "p-value is ----> 0.072\n",
      "Confidence Interval is ----> (41.37, 43.73)\n",
      "Sample mean of sales ----> 42.55\n",
      "The critical value of Z for a 90% LOC is set at ----> 1.65\n"
     ]
    }
   ],
   "source": [
    "# Sample of Sales\n",
    "H_A_pop_mean = 41.5\n",
    "n = 100\n",
    "SD_sales = np.std(sales) \n",
    "mean_sales = np.mean(sales)\n",
    "m_error_1 = Z_c_90 * (SD_sales / math.sqrt(n))\n",
    "UL = round(mean_sales + m_error_1, 2)\n",
    "LL = round(mean_sales - m_error_1, 2)\n",
    "Z_actual = (H_A_pop_mean - mean_sales) / (SD_sales / math.sqrt(n))\n",
    "p_value = 0.072\n",
    "print(\"Standard Deviation of sales is ----> {}\".format(round(SD_sales, 2)))\n",
    "print(\"Margin of error is ----> {}\".format(round(m_error_a,2)))\n",
    "print(\"Upper Limit is ----> {}\".format(round(UL, 2)))\n",
    "print(\"Lower Limit is ----> {}\".format(round(LL, 2)))\n",
    "print(\"Z score is ----> {}\".format(round(Z_actual, 2)))\n",
    "print(\"p-value is ----> {}\".format(p_value))\n",
    "print(\"Confidence Interval is ----> ({}, {})\".format(LL, UL))\n",
    "print(\"Sample mean of sales ----> {}\".format(round(mean_sales, 4)))\n",
    "print(\"The critical value of Z for a 90% LOC is set at ----> {}\".format(Z_c_90))"
   ]
  },
  {
   "cell_type": "markdown",
   "metadata": {},
   "source": [
    "#### Question 1 Conclusion:  \n",
    "\n",
    "This is a right-tail test, therefore given that our actual Z score is lower than our critical Z score, we must fail to reject the null hypothesis.  The results were not significant enough to fall into the rejection region.  There is NO sufficient evidence to support the claim that the mean sales per week exceeds 41.5 per salesman."
   ]
  },
  {
   "cell_type": "markdown",
   "metadata": {},
   "source": [
    "#### Question 2) \n",
    "#### Alternative Hypothesis: Proportion receiving online training < 55%\n",
    "#### Null Hypothesis: Proportion recieving online training >= 55%\n",
    "\n",
    "- We will determine a 90% confidence interval to test the H_A\n",
    "\n",
    "Variable Key Below:\n",
    "____________________________\n",
    "* m_error_2 (margin of error)\n",
    "\n",
    "* Z_c_90 (critical value of Z)\n",
    "* Z_actual (actual value of Z)\n",
    "* SD_online (standard deviation for proportion)\n",
    "* sample_proportion \n",
    "* H_A_pop_mean (population mean hypothesized)\n",
    "* LL (Lower Limit)\n",
    "* UL (Upper Limit"
   ]
  },
  {
   "cell_type": "code",
   "execution_count": 163,
   "metadata": {},
   "outputs": [
    {
     "name": "stdout",
     "output_type": "stream",
     "text": [
      "Standard Deviation of proportion is ----> 0.5\n",
      "Margin of error is ----> 0.08\n",
      "Upper Limit is ----> 0.58\n",
      "Lower Limit is ----> 0.42\n",
      "Z score is ----> -1.01\n",
      "p-value is ----> 0.1574\n",
      "Confidence Interval is ----> (0.42, 0.58)\n",
      "Sample proportion of online training ----> 0.5\n",
      "The critical value of Z for a 90% LOC is set at ----> 1.65\n"
     ]
    }
   ],
   "source": [
    "# Proportion of online training\n",
    "H_A_pop_mean = 0.55\n",
    "n = 100\n",
    "num_of_online = df.Type.value_counts()[0]\n",
    "sample_proportion = num_of_online / n\n",
    "SD_online = math.sqrt(H_A_pop_mean * (1 - H_A_pop_mean)) \n",
    "\n",
    "m_error_2 = Z_c_90 * SD_online /math.sqrt(n)\n",
    "UL = round(sample_proportion + m_error_2, 2)\n",
    "LL = round(sample_proportion - m_error_2, 2)\n",
    "Z_actual = (sample_proportion - H_A_pop_mean) / (SD_online / math.sqrt(n))\n",
    "p_value = 0.1574\n",
    "\n",
    "print(\"Standard Deviation of proportion is ----> {}\".format(round(SD_online, 2)))\n",
    "print(\"Margin of error is ----> {}\".format(round(m_error_2,2)))\n",
    "print(\"Upper Limit is ----> {}\".format(round(UL, 2)))\n",
    "print(\"Lower Limit is ----> {}\".format(round(LL, 2)))\n",
    "print(\"Z score is ----> {}\".format(round(Z_actual, 2)))\n",
    "print(\"p-value is ----> {}\".format(p_value))\n",
    "print(\"Confidence Interval is ----> ({}, {})\".format(LL, UL))\n",
    "print(\"Sample proportion of online training ----> {}\".format(round(sample_proportion, 4)))\n",
    "print(\"The critical value of Z for a 90% LOC is set at ----> {}\".format(Z_c_90))"
   ]
  },
  {
   "cell_type": "markdown",
   "metadata": {},
   "source": [
    "#### Question 2 Conclusion:  \n",
    "\n",
    "Given that our actual Z score is not more extreme than our critical Z score, we must fail to reject the null hypothesis. There is NO sufficient evidence to support the claim that the proportion of online sales is below 55%."
   ]
  },
  {
   "cell_type": "markdown",
   "metadata": {},
   "source": [
    "#### Question 3) \n",
    "#### Alternative Hypothesis: The mean calls made among those with no training is less than 145.\n",
    "#### Null Hypothesis: The mean calls made among those with no training is greater than or equal to 145.\n",
    "- We will determine a 90% confidence interval to test the H_A\n",
    "\n",
    "Variable Key Below\n",
    "_____________________________\n",
    "\n",
    "* m_error_3 (margin of error)\n",
    "* Z_c_90 (critical value of Z)\n",
    "* Z_actual (actual value of Z)\n",
    "* SD_calls (standard deviation for calls)\n",
    "* mean_calls (mean for calls)\n",
    "* sample_mean (sample mean)\n",
    "* H_A_pop_mean (population mean hypothesized)\n",
    "* LL (Lower Limit)\n",
    "* UL (Upper Limit"
   ]
  },
  {
   "cell_type": "code",
   "execution_count": 165,
   "metadata": {},
   "outputs": [
    {
     "name": "stdout",
     "output_type": "stream",
     "text": [
      "Standard Deviation of calls made with no training is ----> 10.89\n",
      "Margin of error is ----> 4.02\n",
      "Upper Limit is ----> 144.32\n",
      "Lower Limit is ----> 136.28\n",
      "Z score is ----> 1.93\n",
      "p-value is ----> 0.027\n",
      "Confidence Interval is ----> (136.28, 144.32)\n",
      "Sample mean of calls with no training ----> 140.3\n",
      "The critical value of Z for a 90% LOC is set at ----> 1.65\n"
     ]
    }
   ],
   "source": [
    "# Sample of Calls made by those with no training\n",
    "H_A_pop_mean = 145\n",
    "n = 20\n",
    "SD_calls = 10.89\n",
    "mean_calls = df.groupby('Type').mean()['Calls (X1)']['NONE']\n",
    "m_error_3 = Z_c_90 * (SD_calls / math.sqrt(n))\n",
    "UL = round(mean_calls + m_error_3, 2)\n",
    "LL = round(mean_calls - m_error_3, 2)\n",
    "Z_actual = (H_A_pop_mean - mean_calls) / (SD_calls / math.sqrt(n))\n",
    "p_value = 0.027\n",
    "print(\"Standard Deviation of calls made with no training is ----> {}\".format(round(SD_calls, 2)))\n",
    "print(\"Margin of error is ----> {}\".format(round(m_error_3,2)))\n",
    "print(\"Upper Limit is ----> {}\".format(round(UL, 2)))\n",
    "print(\"Lower Limit is ----> {}\".format(round(LL, 2)))\n",
    "print(\"Z score is ----> {}\".format(round(Z_actual, 2)))\n",
    "print(\"p-value is ----> {}\".format(p_value))\n",
    "print(\"Confidence Interval is ----> ({}, {})\".format(LL, UL))\n",
    "print(\"Sample mean of calls with no training ----> {}\".format(round(mean_calls, 4)))\n",
    "print(\"The critical value of Z for a 90% LOC is set at ----> {}\".format(Z_c_90))"
   ]
  },
  {
   "cell_type": "markdown",
   "metadata": {},
   "source": [
    "#### Question 3 Conclusion:  \n",
    "\n",
    "Given that our actual Z score is more extreme than our critical Z score, we must reject the null hypothesis. There is sufficient evidence to support the claim that the mean calls made among those with no training is less than 145."
   ]
  },
  {
   "cell_type": "markdown",
   "metadata": {},
   "source": [
    "#### Question 4) \n",
    "#### Alternative Hypothesis: The mean time per call is greater than 15 minutes. \n",
    "#### Null Hypothesis: The mean time per call is less than or equal to 15 minutes.\n",
    "\n",
    "- We will determine a 90% confidence interval to test the H_A\n",
    "\n",
    "Variable Key Below\n",
    "_____________________________\n",
    "\n",
    "* m_error_4 (margin of error)\n",
    "* Z_c_90 (critical value of Z)\n",
    "* Z_actual (actual value of Z)\n",
    "* SD_time (standard deviation for time)\n",
    "* mean_time (mean for calls)\n",
    "* sample_mean (sample mean)\n",
    "* H_A_pop_mean (population mean hypothesized)\n",
    "* LL (Lower Limit)\n",
    "* UL (Upper Limit"
   ]
  },
  {
   "cell_type": "code",
   "execution_count": 166,
   "metadata": {},
   "outputs": [
    {
     "name": "stdout",
     "output_type": "stream",
     "text": [
      "Standard Deviation of calls made with no training is ----> 2.29\n",
      "Margin of error is ----> 0.38\n",
      "Upper Limit is ----> 15.72\n",
      "Lower Limit is ----> 14.96\n",
      "Z score is ----> -1.48\n",
      "p-value is ----> 0.071\n",
      "Confidence Interval is ----> (14.96, 15.72)\n",
      "Sample mean of calls with no training ----> 15.338\n",
      "The critical value of Z for a 90% LOC is set at ----> 1.65\n"
     ]
    }
   ],
   "source": [
    "# Sample of time per call\n",
    "H_A_pop_mean = 15\n",
    "n = 100\n",
    "SD_time = np.std(time)\n",
    "mean_time = np.mean(time)\n",
    "m_error_4 = Z_c_90 * (SD_time / math.sqrt(n))\n",
    "UL = round(mean_time + m_error_4, 2)\n",
    "LL = round(mean_time - m_error_4, 2)\n",
    "Z_actual = (H_A_pop_mean - mean_time) / (SD_time / math.sqrt(n))\n",
    "p_value = 0.071\n",
    "print(\"Standard Deviation of calls made with no training is ----> {}\".format(round(SD_time, 2)))\n",
    "print(\"Margin of error is ----> {}\".format(round(m_error_4,2)))\n",
    "print(\"Upper Limit is ----> {}\".format(round(UL, 2)))\n",
    "print(\"Lower Limit is ----> {}\".format(round(LL, 2)))\n",
    "print(\"Z score is ----> {}\".format(round(Z_actual, 2)))\n",
    "print(\"p-value is ----> {}\".format(p_value))\n",
    "print(\"Confidence Interval is ----> ({}, {})\".format(LL, UL))\n",
    "print(\"Sample mean of calls with no training ----> {}\".format(round(mean_time, 4)))\n",
    "print(\"The critical value of Z for a 90% LOC is set at ----> {}\".format(Z_c_90))"
   ]
  },
  {
   "cell_type": "markdown",
   "metadata": {},
   "source": [
    "#### Question 4 Conclusion:  \n",
    "\n",
    "Given that our actual Z score is not more extreme than our critical Z score, we must fail to reject the null hypothesis. There is NO sufficient evidence to support the claim that the mean time per call is greater than 15 minutes."
   ]
  },
  {
   "cell_type": "markdown",
   "metadata": {},
   "source": [
    "# Part C: Regression and Correlation Analysis"
   ]
  },
  {
   "cell_type": "markdown",
   "metadata": {},
   "source": [
    "### Simple Linear Regression between Sales and Calls"
   ]
  },
  {
   "cell_type": "code",
   "execution_count": 180,
   "metadata": {},
   "outputs": [
    {
     "name": "stdout",
     "output_type": "stream",
     "text": [
      "slope = 0.12373017986740606 calls\n",
      "intercept =  22.520558483064313 sales\n"
     ]
    },
    {
     "data": {
      "image/png": "[encoded data removed]",
      "text/plain": [
       "<Figure size 432x288 with 1 Axes>"
      ]
     },
     "metadata": {
      "needs_background": "light"
     },
     "output_type": "display_data"
    }
   ],
   "source": [
    "# Sales correlation to Calls (X1)\n",
    "_ = plt.plot(calls, sales, marker ='.', linestyle='none')\n",
    "_ = plt.xlabel('calls')\n",
    "_ = plt.ylabel('sales')\n",
    "# Linear Regression\n",
    "a, b = np.polyfit(calls, sales, 1)\n",
    "print('slope =', a, 'calls')\n",
    "print('intercept = ', b, 'sales')\n",
    " # Least Squares line\n",
    "x = np.array([115, 200])\n",
    "y = a * x + b\n",
    "_ = plt.plot(x, y)\n",
    "plt.show()"
   ]
  },
  {
   "cell_type": "code",
   "execution_count": 143,
   "metadata": {},
   "outputs": [
    {
     "data": {
      "text/html": [
       "<table class=\"simpletable\">\n",
       "<caption>OLS Regression Results</caption>\n",
       "<tr>\n",
       "  <th>Dep. Variable:</th>          <td>sales</td>      <th>  R-squared:         </th> <td>   0.101</td>\n",
       "</tr>\n",
       "<tr>\n",
       "  <th>Model:</th>                   <td>OLS</td>       <th>  Adj. R-squared:    </th> <td>   0.092</td>\n",
       "</tr>\n",
       "<tr>\n",
       "  <th>Method:</th>             <td>Least Squares</td>  <th>  F-statistic:       </th> <td>   11.03</td>\n",
       "</tr>\n",
       "<tr>\n",
       "  <th>Date:</th>             <td>Sat, 23 Feb 2019</td> <th>  Prob (F-statistic):</th>  <td>0.00126</td>\n",
       "</tr>\n",
       "<tr>\n",
       "  <th>Time:</th>                 <td>13:24:10</td>     <th>  Log-Likelihood:    </th> <td> -333.06</td>\n",
       "</tr>\n",
       "<tr>\n",
       "  <th>No. Observations:</th>      <td>   100</td>      <th>  AIC:               </th> <td>   670.1</td>\n",
       "</tr>\n",
       "<tr>\n",
       "  <th>Df Residuals:</th>          <td>    98</td>      <th>  BIC:               </th> <td>   675.3</td>\n",
       "</tr>\n",
       "<tr>\n",
       "  <th>Df Model:</th>              <td>     1</td>      <th>                     </th>     <td> </td>   \n",
       "</tr>\n",
       "<tr>\n",
       "  <th>Covariance Type:</th>      <td>nonrobust</td>    <th>                     </th>     <td> </td>   \n",
       "</tr>\n",
       "</table>\n",
       "<table class=\"simpletable\">\n",
       "<tr>\n",
       "      <td></td>         <th>coef</th>     <th>std err</th>      <th>t</th>      <th>P>|t|</th>  <th>[0.025</th>    <th>0.975]</th>  \n",
       "</tr>\n",
       "<tr>\n",
       "  <th>Intercept</th> <td>   22.5206</td> <td>    6.069</td> <td>    3.711</td> <td> 0.000</td> <td>   10.476</td> <td>   34.565</td>\n",
       "</tr>\n",
       "<tr>\n",
       "  <th>calls</th>     <td>    0.1237</td> <td>    0.037</td> <td>    3.321</td> <td> 0.001</td> <td>    0.050</td> <td>    0.198</td>\n",
       "</tr>\n",
       "</table>\n",
       "<table class=\"simpletable\">\n",
       "<tr>\n",
       "  <th>Omnibus:</th>       <td>16.913</td> <th>  Durbin-Watson:     </th> <td>   1.993</td>\n",
       "</tr>\n",
       "<tr>\n",
       "  <th>Prob(Omnibus):</th> <td> 0.000</td> <th>  Jarque-Bera (JB):  </th> <td>  80.159</td>\n",
       "</tr>\n",
       "<tr>\n",
       "  <th>Skew:</th>          <td>-0.008</td> <th>  Prob(JB):          </th> <td>3.92e-18</td>\n",
       "</tr>\n",
       "<tr>\n",
       "  <th>Kurtosis:</th>      <td> 7.386</td> <th>  Cond. No.          </th> <td>1.45e+03</td>\n",
       "</tr>\n",
       "</table><br/><br/>Warnings:<br/>[1] Standard Errors assume that the covariance matrix of the errors is correctly specified.<br/>[2] The condition number is large, 1.45e+03. This might indicate that there are<br/>strong multicollinearity or other numerical problems."
      ],
      "text/plain": [
       "<class 'statsmodels.iolib.summary.Summary'>\n",
       "\"\"\"\n",
       "                            OLS Regression Results                            \n",
       "==============================================================================\n",
       "Dep. Variable:                  sales   R-squared:                       0.101\n",
       "Model:                            OLS   Adj. R-squared:                  0.092\n",
       "Method:                 Least Squares   F-statistic:                     11.03\n",
       "Date:                Sat, 23 Feb 2019   Prob (F-statistic):            0.00126\n",
       "Time:                        13:24:10   Log-Likelihood:                -333.06\n",
       "No. Observations:                 100   AIC:                             670.1\n",
       "Df Residuals:                      98   BIC:                             675.3\n",
       "Df Model:                           1                                         \n",
       "Covariance Type:            nonrobust                                         \n",
       "==============================================================================\n",
       "                 coef    std err          t      P>|t|      [0.025      0.975]\n",
       "------------------------------------------------------------------------------\n",
       "Intercept     22.5206      6.069      3.711      0.000      10.476      34.565\n",
       "calls          0.1237      0.037      3.321      0.001       0.050       0.198\n",
       "==============================================================================\n",
       "Omnibus:                       16.913   Durbin-Watson:                   1.993\n",
       "Prob(Omnibus):                  0.000   Jarque-Bera (JB):               80.159\n",
       "Skew:                          -0.008   Prob(JB):                     3.92e-18\n",
       "Kurtosis:                       7.386   Cond. No.                     1.45e+03\n",
       "==============================================================================\n",
       "\n",
       "Warnings:\n",
       "[1] Standard Errors assume that the covariance matrix of the errors is correctly specified.\n",
       "[2] The condition number is large, 1.45e+03. This might indicate that there are\n",
       "strong multicollinearity or other numerical problems.\n",
       "\"\"\""
      ]
     },
     "execution_count": 143,
     "metadata": {},
     "output_type": "execute_result"
    }
   ],
   "source": [
    "lm = smapi.ols(formula=\"sales ~ calls\", data=df).fit()\n",
    "lm.summary()"
   ]
  },
  {
   "cell_type": "code",
   "execution_count": 171,
   "metadata": {},
   "outputs": [
    {
     "data": {
      "text/plain": [
       "'22.520558483064313 + 0.12373017986740606x'"
      ]
     },
     "execution_count": 171,
     "metadata": {},
     "output_type": "execute_result"
    }
   ],
   "source": [
    "sales_calls_ols = \"{} + {}x\".format(b,a)\n",
    "sales_calls_ols"
   ]
  },
  {
   "cell_type": "markdown",
   "metadata": {},
   "source": [
    "#### Relationship between sales and calls\n",
    "Our coefficient of correlation (Multiple R) is only 0.318.  This suggests a weak relationship between sales and calls.  The coefficient of determination (R Square) is 0.101, which means that only 10% of the variation in sales is explained by calls in this sample.  However, testing the utility of this regression model, we see that our p-value is 0.001 for calls.  At a 95% level of confidence, this p-value is very significant.  So we can conclude that there indeed is a linear relationship between these two variables.\n",
    "\n",
    "This model is statistically significant and can be used to explain about 10% of variation in sales."
   ]
  },
  {
   "cell_type": "code",
   "execution_count": 178,
   "metadata": {},
   "outputs": [
    {
     "name": "stdout",
     "output_type": "stream",
     "text": [
      "Confidence interval is (0.051, 0.196)\n"
     ]
    }
   ],
   "source": [
    "# Confidence Interval for B1 at 95%\n",
    "se = 0.037\n",
    "margin_of_error = Z_c_95 * se\n",
    "UL = round(margin_of_error + a, 3)\n",
    "LL = abs(round(margin_of_error - a, 3))\n",
    "print('Confidence interval is ({}, {})'.format(LL, UL))"
   ]
  },
  {
   "cell_type": "markdown",
   "metadata": {},
   "source": [
    "*** We are 95% confident that the true value of the coefficient of calls is between 0.051 and 0.196."
   ]
  },
  {
   "cell_type": "markdown",
   "metadata": {},
   "source": [
    "### Intervals and Predictions\n",
    "\n",
    "A) Estimates\n",
    "\n",
    "We will estimate the average sales for a selected value of 130, 160, and 190 calls."
   ]
  },
  {
   "cell_type": "code",
   "execution_count": 207,
   "metadata": {},
   "outputs": [
    {
     "data": {
      "text/plain": [
       "38.61"
      ]
     },
     "execution_count": 207,
     "metadata": {},
     "output_type": "execute_result"
    }
   ],
   "source": [
    "# When calls is 130\n",
    "y_hat_130 = round(b + (a * 130), 2)\n",
    "y_hat_130"
   ]
  },
  {
   "cell_type": "code",
   "execution_count": 222,
   "metadata": {},
   "outputs": [
    {
     "name": "stdout",
     "output_type": "stream",
     "text": [
      "The margin of error is 2.73\n",
      "We are 95% confident that the average predicted sales, when calls is 130 is between 41.34 and 35.88\n"
     ]
    }
   ],
   "source": [
    "# 95% Confidence Interval for average predicted sales when calls is 130\n",
    "t_stat = 1.984\n",
    "n = 100\n",
    "Serror = 6.83307589\n",
    "x_selected = 130\n",
    "mean_calls = np.mean(calls)\n",
    "var_calls = np.var(calls)\n",
    "marginE = round(Serror * t_stat * math.sqrt(1 / n + ((x_selected - mean_calls)**2) / ((n - 1) * var_calls)), 2)\n",
    "UL = round(marginE + y_hat_130, 2)\n",
    "LL = y_hat_130 - marginE\n",
    "print(\"The margin of error is {}\".format(marginE))\n",
    "print(\"We are 95% confident that the average predicted sales, when calls is 130 is between {} and {}\".format(UL, LL))"
   ]
  },
  {
   "cell_type": "code",
   "execution_count": 211,
   "metadata": {},
   "outputs": [
    {
     "data": {
      "text/plain": [
       "42.32"
      ]
     },
     "execution_count": 211,
     "metadata": {},
     "output_type": "execute_result"
    }
   ],
   "source": [
    "# When calls is 160\n",
    "y_hat_160 = round(b + (a * 160), 2)\n",
    "y_hat_160"
   ]
  },
  {
   "cell_type": "code",
   "execution_count": 221,
   "metadata": {},
   "outputs": [
    {
     "name": "stdout",
     "output_type": "stream",
     "text": [
      "The margin of error is 1.36\n",
      "We are 95% confident that the average predicted sales, when calls is 130 is between 43.68 and 40.96\n"
     ]
    }
   ],
   "source": [
    "# 95% Confidence Interval for average predicted sales when calls is 160\n",
    "t_stat = 1.984\n",
    "n = 100\n",
    "Serror = 6.83307589\n",
    "x_selected = 160\n",
    "mean_calls = np.mean(calls)\n",
    "var_calls = np.var(calls)\n",
    "marginE = round(Serror * t_stat * math.sqrt(1 / n + ((x_selected - mean_calls)**2) / ((n - 1) * var_calls)), 2)\n",
    "UL = round(marginE + y_hat_160, 2)\n",
    "LL = y_hat_160 - marginE\n",
    "print(\"The margin of error is {}\".format(marginE))\n",
    "print(\"We are 95% confident that the average predicted sales, when calls is 130 is between {} and {}\".format(UL, LL))"
   ]
  },
  {
   "cell_type": "code",
   "execution_count": 213,
   "metadata": {},
   "outputs": [
    {
     "data": {
      "text/plain": [
       "46.03"
      ]
     },
     "execution_count": 213,
     "metadata": {},
     "output_type": "execute_result"
    }
   ],
   "source": [
    "# When calls is 190\n",
    "y_hat_190 = round(b + (a * 190), 2)\n",
    "y_hat_190"
   ]
  },
  {
   "cell_type": "code",
   "execution_count": 220,
   "metadata": {},
   "outputs": [
    {
     "name": "stdout",
     "output_type": "stream",
     "text": [
      "The margin of error is 2.49\n",
      "We are 95% confident that the average predicted sales, when calls is 130 is between 48.52 and 43.54\n"
     ]
    }
   ],
   "source": [
    "# 95% Confidence Interval for average predicted sales when calls is 160\n",
    "t_stat = 1.984\n",
    "n = 100\n",
    "Serror = 6.83307589\n",
    "x_selected = 190\n",
    "mean_calls = np.mean(calls)\n",
    "var_calls = np.var(calls)\n",
    "marginE = round(Serror * t_stat * math.sqrt(1 / n + ((x_selected - mean_calls)**2) / ((n - 1) * var_calls)), 2)\n",
    "UL = round(marginE + y_hat_190, 2)\n",
    "LL = y_hat_190 - marginE\n",
    "print(\"The margin of error is {}\".format(marginE))\n",
    "print(\"We are 95% confident that the average predicted sales, when calls is 130 is between {} and {}\".format(UL, LL))"
   ]
  },
  {
   "cell_type": "markdown",
   "metadata": {},
   "source": [
    "B) Particular Values\n",
    "\n",
    "We will predict the particular value of sales for a selected value of 130, 160, and 190 calls."
   ]
  },
  {
   "cell_type": "code",
   "execution_count": 224,
   "metadata": {},
   "outputs": [
    {
     "data": {
      "text/plain": [
       "38.61"
      ]
     },
     "execution_count": 224,
     "metadata": {},
     "output_type": "execute_result"
    }
   ],
   "source": [
    "# When calls is 130\n",
    "y_hat_130 = round(b + (a * 130), 2)\n",
    "y_hat_130"
   ]
  },
  {
   "cell_type": "code",
   "execution_count": 223,
   "metadata": {},
   "outputs": [
    {
     "name": "stdout",
     "output_type": "stream",
     "text": [
      "The margin of error is 13.83\n",
      "We are 95% confident that the true value of the predicted sales, when calls is 130 is between 52.44 and 24.78\n"
     ]
    }
   ],
   "source": [
    "# Margin of Error\n",
    "marginE = round(t_stat * Serror * math.sqrt(1+ (1/n + ((x_selected - mean_calls)**2)/((n-1)*var_calls))), 2)\n",
    "UL = round(marginE + y_hat_130, 2)\n",
    "LL = y_hat_130 - marginE\n",
    "print(\"The margin of error is {}\".format(marginE))\n",
    "print(\"We are 95% confident that the true value of the predicted sales, when calls is 130 is between {} and {}\".format(UL, LL))"
   ]
  },
  {
   "cell_type": "code",
   "execution_count": 225,
   "metadata": {},
   "outputs": [
    {
     "data": {
      "text/plain": [
       "42.32"
      ]
     },
     "execution_count": 225,
     "metadata": {},
     "output_type": "execute_result"
    }
   ],
   "source": [
    "# When calls is 160\n",
    "y_hat_160 = round(b + (a * 160), 2)\n",
    "y_hat_160"
   ]
  },
  {
   "cell_type": "code",
   "execution_count": 226,
   "metadata": {},
   "outputs": [
    {
     "name": "stdout",
     "output_type": "stream",
     "text": [
      "The margin of error is 13.83\n",
      "We are 95% confident that the true value of the predicted sales, when calls is 160 is between 56.15 and 28.490000000000002\n"
     ]
    }
   ],
   "source": [
    "# Margin of Error\n",
    "marginE = round(t_stat * Serror * math.sqrt(1+ (1/n + ((x_selected - mean_calls)**2)/((n-1)*var_calls))), 2)\n",
    "UL = round(marginE + y_hat_160, 2)\n",
    "LL = y_hat_160 - marginE\n",
    "print(\"The margin of error is {}\".format(marginE))\n",
    "print(\"We are 95% confident that the true value of the predicted sales, when calls is 160 is between {} and {}\".format(UL, LL))"
   ]
  },
  {
   "cell_type": "code",
   "execution_count": 227,
   "metadata": {},
   "outputs": [
    {
     "data": {
      "text/plain": [
       "46.03"
      ]
     },
     "execution_count": 227,
     "metadata": {},
     "output_type": "execute_result"
    }
   ],
   "source": [
    "# When calls is 190\n",
    "y_hat_190 = round(b + (a * 190), 2)\n",
    "y_hat_190"
   ]
  },
  {
   "cell_type": "code",
   "execution_count": 228,
   "metadata": {},
   "outputs": [
    {
     "name": "stdout",
     "output_type": "stream",
     "text": [
      "The margin of error is 13.83\n",
      "We are 95% confident that the true value of the predicted sales, when calls is 190 is between 59.86 and 32.2\n"
     ]
    }
   ],
   "source": [
    "# Margin of Error\n",
    "marginE = round(t_stat * Serror * math.sqrt(1+ (1/n + ((x_selected - mean_calls)**2)/((n-1)*var_calls))), 2)\n",
    "UL = round(marginE + y_hat_190, 2)\n",
    "LL = y_hat_190 - marginE\n",
    "print(\"The margin of error is {}\".format(marginE))\n",
    "print(\"We are 95% confident that the true value of the predicted sales, when calls is 190 is between {} and {}\".format(UL, LL))"
   ]
  },
  {
   "cell_type": "code",
   "execution_count": null,
   "metadata": {},
   "outputs": [],
   "source": []
  },
  {
   "cell_type": "markdown",
   "metadata": {},
   "source": [
    "### Multiple Linear Regression "
   ]
  },
  {
   "cell_type": "code",
   "execution_count": 144,
   "metadata": {},
   "outputs": [
    {
     "data": {
      "text/html": [
       "<table class=\"simpletable\">\n",
       "<caption>OLS Regression Results</caption>\n",
       "<tr>\n",
       "  <th>Dep. Variable:</th>          <td>sales</td>      <th>  R-squared:         </th> <td>   0.106</td>\n",
       "</tr>\n",
       "<tr>\n",
       "  <th>Model:</th>                   <td>OLS</td>       <th>  Adj. R-squared:    </th> <td>   0.078</td>\n",
       "</tr>\n",
       "<tr>\n",
       "  <th>Method:</th>             <td>Least Squares</td>  <th>  F-statistic:       </th> <td>   3.798</td>\n",
       "</tr>\n",
       "<tr>\n",
       "  <th>Date:</th>             <td>Sat, 23 Feb 2019</td> <th>  Prob (F-statistic):</th>  <td>0.0127</td> \n",
       "</tr>\n",
       "<tr>\n",
       "  <th>Time:</th>                 <td>13:25:41</td>     <th>  Log-Likelihood:    </th> <td> -332.79</td>\n",
       "</tr>\n",
       "<tr>\n",
       "  <th>No. Observations:</th>      <td>   100</td>      <th>  AIC:               </th> <td>   673.6</td>\n",
       "</tr>\n",
       "<tr>\n",
       "  <th>Df Residuals:</th>          <td>    96</td>      <th>  BIC:               </th> <td>   684.0</td>\n",
       "</tr>\n",
       "<tr>\n",
       "  <th>Df Model:</th>              <td>     3</td>      <th>                     </th>     <td> </td>   \n",
       "</tr>\n",
       "<tr>\n",
       "  <th>Covariance Type:</th>      <td>nonrobust</td>    <th>                     </th>     <td> </td>   \n",
       "</tr>\n",
       "</table>\n",
       "<table class=\"simpletable\">\n",
       "<tr>\n",
       "      <td></td>         <th>coef</th>     <th>std err</th>      <th>t</th>      <th>P>|t|</th>  <th>[0.025</th>    <th>0.975]</th>  \n",
       "</tr>\n",
       "<tr>\n",
       "  <th>Intercept</th> <td>   27.9028</td> <td>    9.721</td> <td>    2.870</td> <td> 0.005</td> <td>    8.606</td> <td>   47.200</td>\n",
       "</tr>\n",
       "<tr>\n",
       "  <th>calls</th>     <td>    0.1123</td> <td>    0.041</td> <td>    2.760</td> <td> 0.007</td> <td>    0.032</td> <td>    0.193</td>\n",
       "</tr>\n",
       "<tr>\n",
       "  <th>time</th>      <td>   -0.2348</td> <td>    0.326</td> <td>   -0.720</td> <td> 0.473</td> <td>   -0.882</td> <td>    0.412</td>\n",
       "</tr>\n",
       "<tr>\n",
       "  <th>years</th>     <td>    0.0270</td> <td>    0.492</td> <td>    0.055</td> <td> 0.956</td> <td>   -0.949</td> <td>    1.003</td>\n",
       "</tr>\n",
       "</table>\n",
       "<table class=\"simpletable\">\n",
       "<tr>\n",
       "  <th>Omnibus:</th>       <td>17.794</td> <th>  Durbin-Watson:     </th> <td>   1.965</td>\n",
       "</tr>\n",
       "<tr>\n",
       "  <th>Prob(Omnibus):</th> <td> 0.000</td> <th>  Jarque-Bera (JB):  </th> <td>  82.755</td>\n",
       "</tr>\n",
       "<tr>\n",
       "  <th>Skew:</th>          <td> 0.196</td> <th>  Prob(JB):          </th> <td>1.07e-18</td>\n",
       "</tr>\n",
       "<tr>\n",
       "  <th>Kurtosis:</th>      <td> 7.439</td> <th>  Cond. No.          </th> <td>2.31e+03</td>\n",
       "</tr>\n",
       "</table><br/><br/>Warnings:<br/>[1] Standard Errors assume that the covariance matrix of the errors is correctly specified.<br/>[2] The condition number is large, 2.31e+03. This might indicate that there are<br/>strong multicollinearity or other numerical problems."
      ],
      "text/plain": [
       "<class 'statsmodels.iolib.summary.Summary'>\n",
       "\"\"\"\n",
       "                            OLS Regression Results                            \n",
       "==============================================================================\n",
       "Dep. Variable:                  sales   R-squared:                       0.106\n",
       "Model:                            OLS   Adj. R-squared:                  0.078\n",
       "Method:                 Least Squares   F-statistic:                     3.798\n",
       "Date:                Sat, 23 Feb 2019   Prob (F-statistic):             0.0127\n",
       "Time:                        13:25:41   Log-Likelihood:                -332.79\n",
       "No. Observations:                 100   AIC:                             673.6\n",
       "Df Residuals:                      96   BIC:                             684.0\n",
       "Df Model:                           3                                         \n",
       "Covariance Type:            nonrobust                                         \n",
       "==============================================================================\n",
       "                 coef    std err          t      P>|t|      [0.025      0.975]\n",
       "------------------------------------------------------------------------------\n",
       "Intercept     27.9028      9.721      2.870      0.005       8.606      47.200\n",
       "calls          0.1123      0.041      2.760      0.007       0.032       0.193\n",
       "time          -0.2348      0.326     -0.720      0.473      -0.882       0.412\n",
       "years          0.0270      0.492      0.055      0.956      -0.949       1.003\n",
       "==============================================================================\n",
       "Omnibus:                       17.794   Durbin-Watson:                   1.965\n",
       "Prob(Omnibus):                  0.000   Jarque-Bera (JB):               82.755\n",
       "Skew:                           0.196   Prob(JB):                     1.07e-18\n",
       "Kurtosis:                       7.439   Cond. No.                     2.31e+03\n",
       "==============================================================================\n",
       "\n",
       "Warnings:\n",
       "[1] Standard Errors assume that the covariance matrix of the errors is correctly specified.\n",
       "[2] The condition number is large, 2.31e+03. This might indicate that there are\n",
       "strong multicollinearity or other numerical problems.\n",
       "\"\"\""
      ]
     },
     "execution_count": 144,
     "metadata": {},
     "output_type": "execute_result"
    }
   ],
   "source": [
    "lm = smapi.ols(formula=\"sales ~ calls+time+years\", data=df).fit()\n",
    "lm.summary()"
   ]
  },
  {
   "cell_type": "code",
   "execution_count": 30,
   "metadata": {},
   "outputs": [
    {
     "name": "stdout",
     "output_type": "stream",
     "text": [
      "78400 is sum of x * sum_x\n",
      "280 is sum of x\n",
      "895 is sum of y\n",
      "15400 is sum of x2\n",
      "237621 is sum of y2\n",
      "56820 is sum of x*y\n",
      "-2126600 is slope numerator\n",
      "14000 is denominator\n",
      "-151.9 is the slope\n",
      "6.451428571428571 is the coefficient\n",
      "Regression line is -151.9 + 6.451428571428571x\n"
     ]
    }
   ],
   "source": [
    "xa = 20\n",
    "xb = 30\n",
    "xc = 40\n",
    "xd = 50\n",
    "xe = 60\n",
    "xf = 80\n",
    "\n",
    "ya =20\n",
    "yb = 45\n",
    "yc =81\n",
    "yd = 133\n",
    "ye = 205\n",
    "yf = 411\n",
    "\n",
    "sum_xy = (xa*ya) + ( xb*yb) + (xc*yc) + ( xd*yd) + (xe*ye) + (xf*yf)\n",
    "sum_x = xa + xb + xc + xd + xe + xf\n",
    "sum_y = ya + yb + yc + yd + ye + yf\n",
    "n = 6\n",
    "sum_x_squared = xa**2 + xb**2 + xc**2 + xd**2 + xe**2 + xf**2\n",
    "sum_y_squared = ya**2 + yb**2 + yc**2 + yd**2 + ye**2 + yf**2\n",
    "numerator_B0 = (sum_y * sum_x_squared) - (sum_x * sum_xy)\n",
    "denominator_B0 = (n*sum_x_squared) - sum_x**2\n",
    "\n",
    "\n",
    "print('{} is sum of x * sum_x'.format(sum_x*sum_x))\n",
    "print('{} is sum of x'.format(sum_x))\n",
    "print('{} is sum of y'.format(sum_y))\n",
    "print('{} is sum of x2'.format(sum_x_squared))\n",
    "print('{} is sum of y2'.format(sum_y_squared))\n",
    "print('{} is sum of x*y'.format(sum_xy))\n",
    "print('{} is slope numerator'.format(numerator_B0))\n",
    "print('{} is denominator'.format(denominator_B0))\n",
    "\n",
    "\n",
    "B0 = numerator_B0 / denominator_B0\n",
    "\n",
    "print('{} is the slope'.format(B0))\n",
    "\n",
    "numerator_B1 = (n*sum_xy) - (sum_x * sum_y)\n",
    "denominator_B1 = (n*sum_x_squared) - sum_x**2\n",
    "\n",
    "B1 = numerator_B1 / denominator_B1\n",
    "\n",
    "\n",
    "print('{} is the coefficient'.format(B1))\n",
    "\n",
    "y_hat = \"{} + {}x\".format(B0, B1)\n",
    "\n",
    "print('Regression line is {}'.format(y_hat))"
   ]
  },
  {
   "cell_type": "code",
   "execution_count": null,
   "metadata": {},
   "outputs": [],
   "source": []
  }
 ],
 "metadata": {
  "kernelspec": {
   "display_name": "Python 3",
   "language": "python",
   "name": "python3"
  },
  "language_info": {
   "codemirror_mode": {
    "name": "ipython",
    "version": 3
   },
   "file_extension": ".py",
   "mimetype": "text/x-python",
   "name": "python",
   "nbconvert_exporter": "python",
   "pygments_lexer": "ipython3",
   "version": "3.7.1"
  }
 },
 "nbformat": 4,
 "nbformat_minor": 2
}
